{
 "cells": [
  {
   "cell_type": "code",
   "execution_count": 1,
   "metadata": {},
   "outputs": [],
   "source": [
    "#task 7"
   ]
  },
  {
   "cell_type": "code",
   "execution_count": 2,
   "metadata": {},
   "outputs": [
    {
     "name": "stdout",
     "output_type": "stream",
     "text": [
      "Enter first number: 10\n",
      "Enter second number: 20\n",
      "1. Addition\n",
      "2. Substraction\n",
      "3. Division\n",
      "4. Multiplication\n",
      "Enter your choice: 1\n",
      "Addition of 10 and 20 is 30\n"
     ]
    }
   ],
   "source": [
    "a = int(input(\"Enter first number: \"))\n",
    "b = int(input(\"Enter second number: \"))\n",
    "print(\"1. Addition\")\n",
    "print(\"2. Substraction\")\n",
    "print(\"3. Division\")\n",
    "print(\"4. Multiplication\")\n",
    "choice = input(\"Enter your choice: \")\n",
    "if(choice=='1'):\n",
    "    c = a+b\n",
    "    print(\"Addition of {} and {} is {}\".format(a,b,c))\n",
    "elif(choice=='2'):\n",
    "    c = a-b\n",
    "    print(\"Substraction of {} and {} is {}\".format(a,b,c))\n",
    "elif(choice=='3'):\n",
    "    c = a/b\n",
    "    print(\"Division of {} and {} is {}\".format(a,b,c))\n",
    "elif(choice=='4'):\n",
    "    c = a*b\n",
    "    print(\"Multiplication of {} and {} is {}\".format(a,b,c))\n",
    "else:\n",
    "    print(\"Invalid selection\")"
   ]
  },
  {
   "cell_type": "code",
   "execution_count": null,
   "metadata": {},
   "outputs": [],
   "source": []
  }
 ],
 "metadata": {
  "kernelspec": {
   "display_name": "Python 3",
   "language": "python",
   "name": "python3"
  },
  "language_info": {
   "codemirror_mode": {
    "name": "ipython",
    "version": 3
   },
   "file_extension": ".py",
   "mimetype": "text/x-python",
   "name": "python",
   "nbconvert_exporter": "python",
   "pygments_lexer": "ipython3",
   "version": "3.8.0"
  }
 },
 "nbformat": 4,
 "nbformat_minor": 4
}
